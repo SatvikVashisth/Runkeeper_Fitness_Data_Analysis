{
 "cells": [
  {
   "cell_type": "markdown",
   "id": "402fa02b",
   "metadata": {},
   "source": [
    "### Project Description:\n",
    "#### With the explosion in fitness tracker popularity, runners all of the world are collecting data with gadgets (smartphones, watches, etc.) to keep themselves motivated. They look for answers to questions like:\n",
    "#### How fast, long, and intense was my run today?<br> Have I succeeded with my training goals? <br> Am I progressing? <br> What were my best achievements?<br>  How do I perform compared to others?<br>\n",
    "#### I exported seven years worth of the training data from Runkeeper. The data is a CSV file where each row is a single training activity. In this project, I'll create import, clean, and analyze my data to answer the above questions."
   ]
  },
  {
   "cell_type": "markdown",
   "id": "2d1fb867",
   "metadata": {},
   "source": [
    "###    1.) Let's obtain and review the raw data"
   ]
  },
  {
   "cell_type": "code",
   "execution_count": 7,
   "id": "9875b79d",
   "metadata": {},
   "outputs": [],
   "source": [
    "#importing necesaary libraries\n",
    "import pandas as pd"
   ]
  },
  {
   "cell_type": "code",
   "execution_count": 8,
   "id": "82c233e9",
   "metadata": {},
   "outputs": [],
   "source": [
    "#define the file containing dataset\n",
    "runkeeper_file = (\"C:/Users/SATVIK/Downloads/cardioActivities.csv\")"
   ]
  },
  {
   "cell_type": "code",
   "execution_count": 9,
   "id": "448fad36",
   "metadata": {},
   "outputs": [],
   "source": [
    "#as by default, date columns are represented as 'object' when loading a csv file using the default read_csv()\n",
    "#and to read the date column correctly, we can use argument parse_dates to specify a list of date columns\n",
    "#also in order to access any data point across the dataframe, it's important to specify the index(rows indices)\n",
    "\n",
    "#so, creating dataframe with parse_dates and index_col parameters\n",
    "df_activities = pd.read_csv(runkeeper_file, parse_dates=['Date'], index_col='Date')"
   ]
  },
  {
   "cell_type": "code",
   "execution_count": 10,
   "id": "7ec789be",
   "metadata": {},
   "outputs": [
    {
     "data": {
      "text/html": [
       "<div>\n",
       "<style scoped>\n",
       "    .dataframe tbody tr th:only-of-type {\n",
       "        vertical-align: middle;\n",
       "    }\n",
       "\n",
       "    .dataframe tbody tr th {\n",
       "        vertical-align: top;\n",
       "    }\n",
       "\n",
       "    .dataframe thead th {\n",
       "        text-align: right;\n",
       "    }\n",
       "</style>\n",
       "<table border=\"1\" class=\"dataframe\">\n",
       "  <thead>\n",
       "    <tr style=\"text-align: right;\">\n",
       "      <th></th>\n",
       "      <th>Activity Id</th>\n",
       "      <th>Type</th>\n",
       "      <th>Route Name</th>\n",
       "      <th>Distance (km)</th>\n",
       "      <th>Duration</th>\n",
       "      <th>Average Pace</th>\n",
       "      <th>Average Speed (km/h)</th>\n",
       "      <th>Calories Burned</th>\n",
       "      <th>Climb (m)</th>\n",
       "      <th>Average Heart Rate (bpm)</th>\n",
       "      <th>Friend's Tagged</th>\n",
       "      <th>Notes</th>\n",
       "      <th>GPX File</th>\n",
       "    </tr>\n",
       "    <tr>\n",
       "      <th>Date</th>\n",
       "      <th></th>\n",
       "      <th></th>\n",
       "      <th></th>\n",
       "      <th></th>\n",
       "      <th></th>\n",
       "      <th></th>\n",
       "      <th></th>\n",
       "      <th></th>\n",
       "      <th></th>\n",
       "      <th></th>\n",
       "      <th></th>\n",
       "      <th></th>\n",
       "      <th></th>\n",
       "    </tr>\n",
       "  </thead>\n",
       "  <tbody>\n",
       "    <tr>\n",
       "      <th>2017-05-30 18:19:20</th>\n",
       "      <td>58569994-61c8-400c-a647-114e161ff8df</td>\n",
       "      <td>Running</td>\n",
       "      <td>NaN</td>\n",
       "      <td>8.42</td>\n",
       "      <td>42:48</td>\n",
       "      <td>5:05</td>\n",
       "      <td>11.80</td>\n",
       "      <td>584.0</td>\n",
       "      <td>85</td>\n",
       "      <td>154.0</td>\n",
       "      <td>NaN</td>\n",
       "      <td>TomTom MySports Watch</td>\n",
       "      <td>2017-05-30-181920.gpx</td>\n",
       "    </tr>\n",
       "    <tr>\n",
       "      <th>2014-09-11 19:10:00</th>\n",
       "      <td>46be3354-011e-4fc3-8b54-3b78e4f9ea2c</td>\n",
       "      <td>Running</td>\n",
       "      <td>NaN</td>\n",
       "      <td>9.61</td>\n",
       "      <td>48:22</td>\n",
       "      <td>5:02</td>\n",
       "      <td>11.93</td>\n",
       "      <td>682.0</td>\n",
       "      <td>54</td>\n",
       "      <td>NaN</td>\n",
       "      <td>NaN</td>\n",
       "      <td>NaN</td>\n",
       "      <td>2014-09-11-191000.gpx</td>\n",
       "    </tr>\n",
       "    <tr>\n",
       "      <th>2015-12-21 18:31:25</th>\n",
       "      <td>620a65d8-185f-40f4-8967-9ce068f02269</td>\n",
       "      <td>Running</td>\n",
       "      <td>NaN</td>\n",
       "      <td>10.02</td>\n",
       "      <td>57:55</td>\n",
       "      <td>5:47</td>\n",
       "      <td>10.38</td>\n",
       "      <td>687.0</td>\n",
       "      <td>91</td>\n",
       "      <td>138.0</td>\n",
       "      <td>NaN</td>\n",
       "      <td>TomTom MySports Watch</td>\n",
       "      <td>2015-12-21-183125.gpx</td>\n",
       "    </tr>\n",
       "  </tbody>\n",
       "</table>\n",
       "</div>"
      ],
      "text/plain": [
       "                                              Activity Id     Type Route Name  \\\n",
       "Date                                                                            \n",
       "2017-05-30 18:19:20  58569994-61c8-400c-a647-114e161ff8df  Running        NaN   \n",
       "2014-09-11 19:10:00  46be3354-011e-4fc3-8b54-3b78e4f9ea2c  Running        NaN   \n",
       "2015-12-21 18:31:25  620a65d8-185f-40f4-8967-9ce068f02269  Running        NaN   \n",
       "\n",
       "                     Distance (km) Duration Average Pace  \\\n",
       "Date                                                       \n",
       "2017-05-30 18:19:20           8.42    42:48         5:05   \n",
       "2014-09-11 19:10:00           9.61    48:22         5:02   \n",
       "2015-12-21 18:31:25          10.02    57:55         5:47   \n",
       "\n",
       "                     Average Speed (km/h)  Calories Burned  Climb (m)  \\\n",
       "Date                                                                    \n",
       "2017-05-30 18:19:20                 11.80            584.0         85   \n",
       "2014-09-11 19:10:00                 11.93            682.0         54   \n",
       "2015-12-21 18:31:25                 10.38            687.0         91   \n",
       "\n",
       "                     Average Heart Rate (bpm)  Friend's Tagged  \\\n",
       "Date                                                             \n",
       "2017-05-30 18:19:20                     154.0              NaN   \n",
       "2014-09-11 19:10:00                       NaN              NaN   \n",
       "2015-12-21 18:31:25                     138.0              NaN   \n",
       "\n",
       "                                     Notes               GPX File  \n",
       "Date                                                               \n",
       "2017-05-30 18:19:20  TomTom MySports Watch  2017-05-30-181920.gpx  \n",
       "2014-09-11 19:10:00                    NaN  2014-09-11-191000.gpx  \n",
       "2015-12-21 18:31:25  TomTom MySports Watch  2015-12-21-183125.gpx  "
      ]
     },
     "metadata": {},
     "output_type": "display_data"
    }
   ],
   "source": [
    "#let's have a glance of the imported data (a sample of 3 rows)\n",
    "display(df_activities.sample(3))"
   ]
  },
  {
   "cell_type": "code",
   "execution_count": 11,
   "id": "5cbffdec",
   "metadata": {},
   "outputs": [
    {
     "data": {
      "text/html": [
       "<div>\n",
       "<style scoped>\n",
       "    .dataframe tbody tr th:only-of-type {\n",
       "        vertical-align: middle;\n",
       "    }\n",
       "\n",
       "    .dataframe tbody tr th {\n",
       "        vertical-align: top;\n",
       "    }\n",
       "\n",
       "    .dataframe thead th {\n",
       "        text-align: right;\n",
       "    }\n",
       "</style>\n",
       "<table border=\"1\" class=\"dataframe\">\n",
       "  <thead>\n",
       "    <tr style=\"text-align: right;\">\n",
       "      <th></th>\n",
       "      <th>Activity Id</th>\n",
       "      <th>Type</th>\n",
       "      <th>Route Name</th>\n",
       "      <th>Distance (km)</th>\n",
       "      <th>Duration</th>\n",
       "      <th>Average Pace</th>\n",
       "      <th>Average Speed (km/h)</th>\n",
       "      <th>Calories Burned</th>\n",
       "      <th>Climb (m)</th>\n",
       "      <th>Average Heart Rate (bpm)</th>\n",
       "      <th>Friend's Tagged</th>\n",
       "      <th>Notes</th>\n",
       "      <th>GPX File</th>\n",
       "    </tr>\n",
       "    <tr>\n",
       "      <th>Date</th>\n",
       "      <th></th>\n",
       "      <th></th>\n",
       "      <th></th>\n",
       "      <th></th>\n",
       "      <th></th>\n",
       "      <th></th>\n",
       "      <th></th>\n",
       "      <th></th>\n",
       "      <th></th>\n",
       "      <th></th>\n",
       "      <th></th>\n",
       "      <th></th>\n",
       "      <th></th>\n",
       "    </tr>\n",
       "  </thead>\n",
       "  <tbody>\n",
       "    <tr>\n",
       "      <th>2018-11-11 14:05:12</th>\n",
       "      <td>c9627fed-14ac-47a2-bed3-2a2630c63c15</td>\n",
       "      <td>Running</td>\n",
       "      <td>NaN</td>\n",
       "      <td>10.44</td>\n",
       "      <td>58:40</td>\n",
       "      <td>5:37</td>\n",
       "      <td>10.68</td>\n",
       "      <td>774.0</td>\n",
       "      <td>130</td>\n",
       "      <td>159.0</td>\n",
       "      <td>NaN</td>\n",
       "      <td>NaN</td>\n",
       "      <td>2018-11-11-140512.gpx</td>\n",
       "    </tr>\n",
       "    <tr>\n",
       "      <th>2018-11-09 15:02:35</th>\n",
       "      <td>be65818d-a801-4847-a43b-2acdf4dc70e7</td>\n",
       "      <td>Running</td>\n",
       "      <td>NaN</td>\n",
       "      <td>12.84</td>\n",
       "      <td>1:14:12</td>\n",
       "      <td>5:47</td>\n",
       "      <td>10.39</td>\n",
       "      <td>954.0</td>\n",
       "      <td>168</td>\n",
       "      <td>159.0</td>\n",
       "      <td>NaN</td>\n",
       "      <td>NaN</td>\n",
       "      <td>2018-11-09-150235.gpx</td>\n",
       "    </tr>\n",
       "    <tr>\n",
       "      <th>2018-11-04 16:05:00</th>\n",
       "      <td>c09b2f92-f855-497c-b624-c196b3ef036c</td>\n",
       "      <td>Running</td>\n",
       "      <td>NaN</td>\n",
       "      <td>13.01</td>\n",
       "      <td>1:15:16</td>\n",
       "      <td>5:47</td>\n",
       "      <td>10.37</td>\n",
       "      <td>967.0</td>\n",
       "      <td>171</td>\n",
       "      <td>155.0</td>\n",
       "      <td>NaN</td>\n",
       "      <td>NaN</td>\n",
       "      <td>2018-11-04-160500.gpx</td>\n",
       "    </tr>\n",
       "  </tbody>\n",
       "</table>\n",
       "</div>"
      ],
      "text/plain": [
       "                                              Activity Id     Type Route Name  \\\n",
       "Date                                                                            \n",
       "2018-11-11 14:05:12  c9627fed-14ac-47a2-bed3-2a2630c63c15  Running        NaN   \n",
       "2018-11-09 15:02:35  be65818d-a801-4847-a43b-2acdf4dc70e7  Running        NaN   \n",
       "2018-11-04 16:05:00  c09b2f92-f855-497c-b624-c196b3ef036c  Running        NaN   \n",
       "\n",
       "                     Distance (km) Duration Average Pace  \\\n",
       "Date                                                       \n",
       "2018-11-11 14:05:12          10.44    58:40         5:37   \n",
       "2018-11-09 15:02:35          12.84  1:14:12         5:47   \n",
       "2018-11-04 16:05:00          13.01  1:15:16         5:47   \n",
       "\n",
       "                     Average Speed (km/h)  Calories Burned  Climb (m)  \\\n",
       "Date                                                                    \n",
       "2018-11-11 14:05:12                 10.68            774.0        130   \n",
       "2018-11-09 15:02:35                 10.39            954.0        168   \n",
       "2018-11-04 16:05:00                 10.37            967.0        171   \n",
       "\n",
       "                     Average Heart Rate (bpm)  Friend's Tagged Notes  \\\n",
       "Date                                                                   \n",
       "2018-11-11 14:05:12                     159.0              NaN   NaN   \n",
       "2018-11-09 15:02:35                     159.0              NaN   NaN   \n",
       "2018-11-04 16:05:00                     155.0              NaN   NaN   \n",
       "\n",
       "                                  GPX File  \n",
       "Date                                        \n",
       "2018-11-11 14:05:12  2018-11-11-140512.gpx  \n",
       "2018-11-09 15:02:35  2018-11-09-150235.gpx  \n",
       "2018-11-04 16:05:00  2018-11-04-160500.gpx  "
      ]
     },
     "execution_count": 11,
     "metadata": {},
     "output_type": "execute_result"
    }
   ],
   "source": [
    "#Let's look at the first 3 rows now\n",
    "df_activities.head(3)"
   ]
  },
  {
   "cell_type": "code",
   "execution_count": 12,
   "id": "d3867a6b",
   "metadata": {},
   "outputs": [
    {
     "name": "stdout",
     "output_type": "stream",
     "text": [
      "<class 'pandas.core.frame.DataFrame'>\n",
      "DatetimeIndex: 508 entries, 2018-11-11 14:05:12 to 2012-08-22 18:53:54\n",
      "Data columns (total 13 columns):\n",
      " #   Column                    Non-Null Count  Dtype  \n",
      "---  ------                    --------------  -----  \n",
      " 0   Activity Id               508 non-null    object \n",
      " 1   Type                      508 non-null    object \n",
      " 2   Route Name                1 non-null      object \n",
      " 3   Distance (km)             508 non-null    float64\n",
      " 4   Duration                  508 non-null    object \n",
      " 5   Average Pace              508 non-null    object \n",
      " 6   Average Speed (km/h)      508 non-null    float64\n",
      " 7   Calories Burned           508 non-null    float64\n",
      " 8   Climb (m)                 508 non-null    int64  \n",
      " 9   Average Heart Rate (bpm)  294 non-null    float64\n",
      " 10  Friend's Tagged           0 non-null      float64\n",
      " 11  Notes                     231 non-null    object \n",
      " 12  GPX File                  504 non-null    object \n",
      "dtypes: float64(5), int64(1), object(7)\n",
      "memory usage: 55.6+ KB\n"
     ]
    }
   ],
   "source": [
    "#Let's summarize the dataframe\n",
    "df_activities.info()"
   ]
  },
  {
   "cell_type": "markdown",
   "id": "d79ac6fb",
   "metadata": {},
   "source": [
    "### 2.) Let's perform Data Preprocessing"
   ]
  },
  {
   "cell_type": "code",
   "execution_count": 13,
   "id": "be39d612",
   "metadata": {},
   "outputs": [],
   "source": [
    "#Let's rename some of our columns\n",
    "df_activities = df_activities.rename(columns={'Type':'Workout_type', 'Distance (km)':'Distance_km'})"
   ]
  },
  {
   "cell_type": "code",
   "execution_count": 14,
   "id": "e3341552",
   "metadata": {},
   "outputs": [
    {
     "data": {
      "text/html": [
       "<div>\n",
       "<style scoped>\n",
       "    .dataframe tbody tr th:only-of-type {\n",
       "        vertical-align: middle;\n",
       "    }\n",
       "\n",
       "    .dataframe tbody tr th {\n",
       "        vertical-align: top;\n",
       "    }\n",
       "\n",
       "    .dataframe thead th {\n",
       "        text-align: right;\n",
       "    }\n",
       "</style>\n",
       "<table border=\"1\" class=\"dataframe\">\n",
       "  <thead>\n",
       "    <tr style=\"text-align: right;\">\n",
       "      <th></th>\n",
       "      <th>Activity Id</th>\n",
       "      <th>Workout_type</th>\n",
       "      <th>Route Name</th>\n",
       "      <th>Distance_km</th>\n",
       "      <th>Duration</th>\n",
       "      <th>Average Pace</th>\n",
       "      <th>Average Speed (km/h)</th>\n",
       "      <th>Calories Burned</th>\n",
       "      <th>Climb (m)</th>\n",
       "      <th>Average Heart Rate (bpm)</th>\n",
       "      <th>Friend's Tagged</th>\n",
       "      <th>Notes</th>\n",
       "      <th>GPX File</th>\n",
       "    </tr>\n",
       "    <tr>\n",
       "      <th>Date</th>\n",
       "      <th></th>\n",
       "      <th></th>\n",
       "      <th></th>\n",
       "      <th></th>\n",
       "      <th></th>\n",
       "      <th></th>\n",
       "      <th></th>\n",
       "      <th></th>\n",
       "      <th></th>\n",
       "      <th></th>\n",
       "      <th></th>\n",
       "      <th></th>\n",
       "      <th></th>\n",
       "    </tr>\n",
       "  </thead>\n",
       "  <tbody>\n",
       "    <tr>\n",
       "      <th>2018-11-11 14:05:12</th>\n",
       "      <td>c9627fed-14ac-47a2-bed3-2a2630c63c15</td>\n",
       "      <td>Running</td>\n",
       "      <td>NaN</td>\n",
       "      <td>10.44</td>\n",
       "      <td>58:40</td>\n",
       "      <td>5:37</td>\n",
       "      <td>10.68</td>\n",
       "      <td>774.0</td>\n",
       "      <td>130</td>\n",
       "      <td>159.0</td>\n",
       "      <td>NaN</td>\n",
       "      <td>NaN</td>\n",
       "      <td>2018-11-11-140512.gpx</td>\n",
       "    </tr>\n",
       "  </tbody>\n",
       "</table>\n",
       "</div>"
      ],
      "text/plain": [
       "                                              Activity Id Workout_type  \\\n",
       "Date                                                                     \n",
       "2018-11-11 14:05:12  c9627fed-14ac-47a2-bed3-2a2630c63c15      Running   \n",
       "\n",
       "                    Route Name  Distance_km Duration Average Pace  \\\n",
       "Date                                                                \n",
       "2018-11-11 14:05:12        NaN        10.44    58:40         5:37   \n",
       "\n",
       "                     Average Speed (km/h)  Calories Burned  Climb (m)  \\\n",
       "Date                                                                    \n",
       "2018-11-11 14:05:12                 10.68            774.0        130   \n",
       "\n",
       "                     Average Heart Rate (bpm)  Friend's Tagged Notes  \\\n",
       "Date                                                                   \n",
       "2018-11-11 14:05:12                     159.0              NaN   NaN   \n",
       "\n",
       "                                  GPX File  \n",
       "Date                                        \n",
       "2018-11-11 14:05:12  2018-11-11-140512.gpx  "
      ]
     },
     "execution_count": 14,
     "metadata": {},
     "output_type": "execute_result"
    }
   ],
   "source": [
    "df_activities.head(1)"
   ]
  },
  {
   "cell_type": "code",
   "execution_count": 15,
   "id": "fb8a204e",
   "metadata": {},
   "outputs": [],
   "source": [
    "#We'll first remove columns that are'nt useful for our analysis\n",
    "cols_to_drop = [\"Friend's Tagged\", \"Route Name\", \"GPX File\", \"Activity Id\", \"Calories Burned\", \"Notes\"]\n",
    "df_activities.drop(cols_to_drop, axis=1, inplace=True)"
   ]
  },
  {
   "cell_type": "code",
   "execution_count": 16,
   "id": "cd916c23",
   "metadata": {},
   "outputs": [],
   "source": [
    "#Replace 'other' workout type to 'unicycling'\n",
    "df_activities['Workout_type'] = df_activities['Workout_type'].str.replace('Other', 'Unicycling', regex=False)"
   ]
  },
  {
   "cell_type": "code",
   "execution_count": 17,
   "id": "d9ab97a2",
   "metadata": {},
   "outputs": [
    {
     "data": {
      "text/plain": [
       "Running       459\n",
       "Cycling        29\n",
       "Walking        18\n",
       "Unicycling      2\n",
       "Name: Workout_type, dtype: int64"
      ]
     },
     "metadata": {},
     "output_type": "display_data"
    },
    {
     "data": {
      "text/plain": [
       "Workout_type                  0\n",
       "Distance_km                   0\n",
       "Duration                      0\n",
       "Average Pace                  0\n",
       "Average Speed (km/h)          0\n",
       "Climb (m)                     0\n",
       "Average Heart Rate (bpm)    214\n",
       "dtype: int64"
      ]
     },
     "execution_count": 17,
     "metadata": {},
     "output_type": "execute_result"
    }
   ],
   "source": [
    "#Count of Workout_type activities\n",
    "display(df_activities.Workout_type.value_counts())\n",
    "\n",
    "#Count the missing values of each column\n",
    "df_activities.isnull().sum(axis=0)"
   ]
  },
  {
   "cell_type": "markdown",
   "id": "81dbd7e2",
   "metadata": {},
   "source": [
    "### 3.) Let's deal with the missing values"
   ]
  },
  {
   "cell_type": "markdown",
   "id": "12ff9d41",
   "metadata": {},
   "source": [
    "#### It can be noticed that there are 214 missing values for Average Heart Rate (bpm) column\n",
    "#### What could be the potential reasons for this?\n",
    "#### Depends; for heart rate info, maybe the cardio sensor wasn't always used\n",
    "##### (for notes and route, as it's optional so could have been left blank most of the times\n",
    "##### for friend's tagged column, well it's obvious why its left blank LOL!)\n",
    "#### Now, I can't go back in time and get that data, but what best I can do is fill in those values with the average value.\n",
    "#### This process is  MEAN IMPUTATION.\n",
    "#### But while imputing the mean to fill in missing data, we need to consider that average heart rate varies for different activities\n",
    "#### i.e. walking, running etc.\n",
    "\n",
    "#### So, I'll filter the Dataframe by Workout_type and calculate Mean Heart Rate for each type.\n"
   ]
  },
  {
   "cell_type": "code",
   "execution_count": 18,
   "id": "5addc871",
   "metadata": {},
   "outputs": [],
   "source": [
    "#Calculate sample Mean of Heart Rate for each type\n",
    "avg_HR_Run = df_activities[df_activities['Workout_type'] == 'Running']['Average Heart Rate (bpm)'].mean()\n",
    "avg_HR_Cycle = df_activities[df_activities['Workout_type'] == 'Cycling']['Average Heart Rate (bpm)'].mean()"
   ]
  },
  {
   "cell_type": "code",
   "execution_count": 19,
   "id": "4ed925ca",
   "metadata": {},
   "outputs": [],
   "source": [
    "#Now splitting whole dataframe into several, specific for different activities\n",
    "df_Run = df_activities[df_activities['Workout_type'] == 'Running'].copy()\n",
    "df_Walk = df_activities[df_activities['Workout_type'] == 'Walking'].copy()\n",
    "df_Cycle = df_activities[df_activities['Workout_type'] == 'Cycling'].copy()"
   ]
  },
  {
   "cell_type": "code",
   "execution_count": 20,
   "id": "5d6ae636",
   "metadata": {},
   "outputs": [],
   "source": [
    "#Filling the missing values with counted mean\n",
    "df_Run['Average Heart Rate (bpm)'].fillna(int(avg_HR_Run), inplace=True)\n",
    "df_Walk['Average Heart Rate (bpm)'].fillna(110, inplace=True)\n",
    "df_Cycle['Average Heart Rate (bpm)'].fillna(int(avg_HR_Cycle), inplace=True)"
   ]
  },
  {
   "cell_type": "code",
   "execution_count": 21,
   "id": "9b5e1fa5",
   "metadata": {},
   "outputs": [
    {
     "data": {
      "text/plain": [
       "Workout_type                0\n",
       "Distance_km                 0\n",
       "Duration                    0\n",
       "Average Pace                0\n",
       "Average Speed (km/h)        0\n",
       "Climb (m)                   0\n",
       "Average Heart Rate (bpm)    0\n",
       "dtype: int64"
      ]
     },
     "execution_count": 21,
     "metadata": {},
     "output_type": "execute_result"
    }
   ],
   "source": [
    "#Count of the missing values in each column in running data\n",
    "df_Run.isnull().sum()"
   ]
  },
  {
   "cell_type": "markdown",
   "id": "13f91a7d",
   "metadata": {},
   "source": [
    "### 4.) Now I'll plot the running data\n",
    "#### I'll create the first plot. As I found earlier, 459 activities in data are running and 29,18,2 for Cycling, Walking, Unicycling respectively\n",
    "#### So I'll focus on plotting different running metrics."
   ]
  },
  {
   "cell_type": "code",
   "execution_count": 22,
   "id": "4917cfae",
   "metadata": {},
   "outputs": [],
   "source": [
    "%matplotlib inline\n",
    "import matplotlib.pyplot as plt\n",
    "%matplotlib inline\n",
    "import warnings\n",
    "plt.style.use('ggplot')\n",
    "warnings.filterwarnings(action = 'ignore', module = 'matplotlib.figure', category = UserWarning, message = 'This figure includes Axes that are not compatible with tight_layout, so results might be incorrect.')"
   ]
  },
  {
   "cell_type": "code",
   "execution_count": 23,
   "id": "5f5f95d3",
   "metadata": {},
   "outputs": [
    {
     "name": "stderr",
     "output_type": "stream",
     "text": [
      "C:\\Users\\SATVIK\\AppData\\Local\\Temp\\ipykernel_23712\\1951937288.py:2: FutureWarning: Value based partial slicing on non-monotonic DatetimeIndexes with non-existing keys is deprecated and will raise a KeyError in a future Version.\n",
      "  runs_subset_2013_to_2018 = df_Run['2013':'2018']\n"
     ]
    }
   ],
   "source": [
    "#df_activities = df_activities.sort_index()\n",
    "runs_subset_2013_to_2018 = df_Run['2013':'2018']"
   ]
  },
  {
   "cell_type": "code",
   "execution_count": 24,
   "id": "ced684ca",
   "metadata": {},
   "outputs": [
    {
     "data": {
      "image/png": "[encoded data removed]",
      "text/plain": [
       "<Figure size 864x1152 with 4 Axes>"
      ]
     },
     "metadata": {},
     "output_type": "display_data"
    }
   ],
   "source": [
    "#Create, plot, customize all together\n",
    "runs_subset_2013_to_2018.plot(subplots=True, sharex=False, figsize=(12,16), linestyle='none', marker='o', markersize=3)\n",
    "plt.show()"
   ]
  },
  {
   "cell_type": "markdown",
   "id": "c7b2236d",
   "metadata": {},
   "source": [
    "### 5.) Running Statistics <br>\n",
    "\n",
    "#### No doubt, running helps people stay mentally and physically healthy and productive at any age. And it is great fun! When runners talk to each other about their hobby, we not only discuss our results, but we also discuss different training strategies. <br>\n",
    "\n",
    "#### You'll know you're with a group of runners if you commonly hear questions like:<br>\n",
    "\n",
    "#### at is your average distance?<br>\n",
    "#### How fast do you run?<br>\n",
    "#### Do you measure your heart rate?<br>\n",
    "#### How often do you train?<br>\n",
    "\n",
    "#### I'll find the answers to these questions in my data. It can be observed in plots (Task 4),  the answer to, Do you measure your heart rate? Before 2015: no. To look at the averages, l'll only use the data from 2015 through 2018."
   ]
  },
  {
   "cell_type": "code",
   "execution_count": 25,
   "id": "ffa3bcc7",
   "metadata": {},
   "outputs": [
    {
     "data": {
      "text/html": [
       "<div>\n",
       "<style scoped>\n",
       "    .dataframe tbody tr th:only-of-type {\n",
       "        vertical-align: middle;\n",
       "    }\n",
       "\n",
       "    .dataframe tbody tr th {\n",
       "        vertical-align: top;\n",
       "    }\n",
       "\n",
       "    .dataframe thead th {\n",
       "        text-align: right;\n",
       "    }\n",
       "</style>\n",
       "<table border=\"1\" class=\"dataframe\">\n",
       "  <thead>\n",
       "    <tr style=\"text-align: right;\">\n",
       "      <th></th>\n",
       "      <th>Workout_type</th>\n",
       "      <th>Distance_km</th>\n",
       "      <th>Duration</th>\n",
       "      <th>Average Pace</th>\n",
       "      <th>Average Speed (km/h)</th>\n",
       "      <th>Climb (m)</th>\n",
       "      <th>Average Heart Rate (bpm)</th>\n",
       "    </tr>\n",
       "    <tr>\n",
       "      <th>Date</th>\n",
       "      <th></th>\n",
       "      <th></th>\n",
       "      <th></th>\n",
       "      <th></th>\n",
       "      <th></th>\n",
       "      <th></th>\n",
       "      <th></th>\n",
       "    </tr>\n",
       "  </thead>\n",
       "  <tbody>\n",
       "    <tr>\n",
       "      <th>2018-11-11 14:05:12</th>\n",
       "      <td>Running</td>\n",
       "      <td>10.44</td>\n",
       "      <td>58:40</td>\n",
       "      <td>5:37</td>\n",
       "      <td>10.68</td>\n",
       "      <td>130</td>\n",
       "      <td>159.0</td>\n",
       "    </tr>\n",
       "    <tr>\n",
       "      <th>2018-11-09 15:02:35</th>\n",
       "      <td>Running</td>\n",
       "      <td>12.84</td>\n",
       "      <td>1:14:12</td>\n",
       "      <td>5:47</td>\n",
       "      <td>10.39</td>\n",
       "      <td>168</td>\n",
       "      <td>159.0</td>\n",
       "    </tr>\n",
       "    <tr>\n",
       "      <th>2018-11-04 16:05:00</th>\n",
       "      <td>Running</td>\n",
       "      <td>13.01</td>\n",
       "      <td>1:15:16</td>\n",
       "      <td>5:47</td>\n",
       "      <td>10.37</td>\n",
       "      <td>171</td>\n",
       "      <td>155.0</td>\n",
       "    </tr>\n",
       "    <tr>\n",
       "      <th>2018-11-01 14:03:58</th>\n",
       "      <td>Running</td>\n",
       "      <td>12.98</td>\n",
       "      <td>1:14:25</td>\n",
       "      <td>5:44</td>\n",
       "      <td>10.47</td>\n",
       "      <td>169</td>\n",
       "      <td>158.0</td>\n",
       "    </tr>\n",
       "    <tr>\n",
       "      <th>2018-10-27 17:01:36</th>\n",
       "      <td>Running</td>\n",
       "      <td>13.02</td>\n",
       "      <td>1:12:50</td>\n",
       "      <td>5:36</td>\n",
       "      <td>10.73</td>\n",
       "      <td>170</td>\n",
       "      <td>154.0</td>\n",
       "    </tr>\n",
       "  </tbody>\n",
       "</table>\n",
       "</div>"
      ],
      "text/plain": [
       "                    Workout_type  Distance_km Duration Average Pace  \\\n",
       "Date                                                                  \n",
       "2018-11-11 14:05:12      Running        10.44    58:40         5:37   \n",
       "2018-11-09 15:02:35      Running        12.84  1:14:12         5:47   \n",
       "2018-11-04 16:05:00      Running        13.01  1:15:16         5:47   \n",
       "2018-11-01 14:03:58      Running        12.98  1:14:25         5:44   \n",
       "2018-10-27 17:01:36      Running        13.02  1:12:50         5:36   \n",
       "\n",
       "                     Average Speed (km/h)  Climb (m)  Average Heart Rate (bpm)  \n",
       "Date                                                                            \n",
       "2018-11-11 14:05:12                 10.68        130                     159.0  \n",
       "2018-11-09 15:02:35                 10.39        168                     159.0  \n",
       "2018-11-04 16:05:00                 10.37        171                     155.0  \n",
       "2018-11-01 14:03:58                 10.47        169                     158.0  \n",
       "2018-10-27 17:01:36                 10.73        170                     154.0  "
      ]
     },
     "execution_count": 25,
     "metadata": {},
     "output_type": "execute_result"
    }
   ],
   "source": [
    "#Now I'll group the time series data by sampling period and apply several methods to each sampling period i.e. annually & weekly\n",
    "runs_subset_2015_to_2018 = df_Run[(df_Run.index <= '2019') & (df_Run.index >= '2015')]\n",
    "runs_subset_2015_to_2018.head()"
   ]
  },
  {
   "cell_type": "code",
   "execution_count": 26,
   "id": "78648b79",
   "metadata": {},
   "outputs": [],
   "source": [
    "#Running data for last 4 years\n",
    "#runs_subset_2015_to_2018 = df_Run['2018':'2015']\n",
    "#print(runs_subset_2015_to_2018)"
   ]
  },
  {
   "cell_type": "code",
   "execution_count": 27,
   "id": "20845de5",
   "metadata": {},
   "outputs": [
    {
     "name": "stdout",
     "output_type": "stream",
     "text": [
      "This is how my average run looks in the last 4 years:\n"
     ]
    },
    {
     "data": {
      "text/html": [
       "<div>\n",
       "<style scoped>\n",
       "    .dataframe tbody tr th:only-of-type {\n",
       "        vertical-align: middle;\n",
       "    }\n",
       "\n",
       "    .dataframe tbody tr th {\n",
       "        vertical-align: top;\n",
       "    }\n",
       "\n",
       "    .dataframe thead th {\n",
       "        text-align: right;\n",
       "    }\n",
       "</style>\n",
       "<table border=\"1\" class=\"dataframe\">\n",
       "  <thead>\n",
       "    <tr style=\"text-align: right;\">\n",
       "      <th></th>\n",
       "      <th>Distance_km</th>\n",
       "      <th>Average Speed (km/h)</th>\n",
       "      <th>Climb (m)</th>\n",
       "      <th>Average Heart Rate (bpm)</th>\n",
       "    </tr>\n",
       "    <tr>\n",
       "      <th>Date</th>\n",
       "      <th></th>\n",
       "      <th></th>\n",
       "      <th></th>\n",
       "      <th></th>\n",
       "    </tr>\n",
       "  </thead>\n",
       "  <tbody>\n",
       "    <tr>\n",
       "      <th>2015-12-31</th>\n",
       "      <td>13.602805</td>\n",
       "      <td>10.998902</td>\n",
       "      <td>160.170732</td>\n",
       "      <td>143.353659</td>\n",
       "    </tr>\n",
       "    <tr>\n",
       "      <th>2016-12-31</th>\n",
       "      <td>11.411667</td>\n",
       "      <td>10.837778</td>\n",
       "      <td>133.194444</td>\n",
       "      <td>143.388889</td>\n",
       "    </tr>\n",
       "    <tr>\n",
       "      <th>2017-12-31</th>\n",
       "      <td>12.935176</td>\n",
       "      <td>10.959059</td>\n",
       "      <td>169.376471</td>\n",
       "      <td>145.247059</td>\n",
       "    </tr>\n",
       "    <tr>\n",
       "      <th>2018-12-31</th>\n",
       "      <td>13.339063</td>\n",
       "      <td>10.777969</td>\n",
       "      <td>191.218750</td>\n",
       "      <td>148.125000</td>\n",
       "    </tr>\n",
       "  </tbody>\n",
       "</table>\n",
       "</div>"
      ],
      "text/plain": [
       "            Distance_km  Average Speed (km/h)   Climb (m)  \\\n",
       "Date                                                        \n",
       "2015-12-31    13.602805             10.998902  160.170732   \n",
       "2016-12-31    11.411667             10.837778  133.194444   \n",
       "2017-12-31    12.935176             10.959059  169.376471   \n",
       "2018-12-31    13.339063             10.777969  191.218750   \n",
       "\n",
       "            Average Heart Rate (bpm)  \n",
       "Date                                  \n",
       "2015-12-31                143.353659  \n",
       "2016-12-31                143.388889  \n",
       "2017-12-31                145.247059  \n",
       "2018-12-31                148.125000  "
      ]
     },
     "metadata": {},
     "output_type": "display_data"
    }
   ],
   "source": [
    "#Annual Statistics\n",
    "print('This is how my average run looks in the last 4 years:')\n",
    "display(runs_subset_2015_to_2018.resample('A').mean())"
   ]
  },
  {
   "cell_type": "code",
   "execution_count": 28,
   "id": "ce23ec5c",
   "metadata": {},
   "outputs": [
    {
     "name": "stdout",
     "output_type": "stream",
     "text": [
      "This is weekly averages of the last 4 years:\n"
     ]
    },
    {
     "data": {
      "text/plain": [
       "Distance_km                  12.518176\n",
       "Average Speed (km/h)         10.835473\n",
       "Climb (m)                   158.325444\n",
       "Average Heart Rate (bpm)    144.801775\n",
       "dtype: float64"
      ]
     },
     "metadata": {},
     "output_type": "display_data"
    }
   ],
   "source": [
    "#Weekly Statistics\n",
    "print('This is weekly averages of the last 4 years:')\n",
    "display(runs_subset_2015_to_2018.resample('W').mean().mean())"
   ]
  },
  {
   "cell_type": "code",
   "execution_count": 29,
   "id": "50b3adaf",
   "metadata": {},
   "outputs": [
    {
     "name": "stdout",
     "output_type": "stream",
     "text": [
      "How many trainings per week I had on average: 1.5\n"
     ]
    }
   ],
   "source": [
    "#Mean Weekly counts\n",
    "weekly_counts_average = runs_subset_2015_to_2018['Distance_km'].resample('W').count().mean()\n",
    "print('How many trainings per week I had on average:', weekly_counts_average)"
   ]
  },
  {
   "cell_type": "markdown",
   "id": "27d266e6",
   "metadata": {},
   "source": [
    "### 6.) Visualization with Averages<br>\n",
    "#### Now I'll plot the long term averages of my distance run and my heart rate with their raw data to visually compare the averages to each training session. Again, I'll use the data from 2015 through 2018.<br>\n",
    "\n",
    "#### In this task, I'll will use matplotlib functionality for plot creation and customization.<br>"
   ]
  },
  {
   "cell_type": "code",
   "execution_count": 30,
   "id": "b210a2f1",
   "metadata": {},
   "outputs": [],
   "source": [
    "#Data preparation\n",
    "runs_subset_2015_to_2018\n",
    "runs_distance = runs_subset_2015_to_2018['Distance_km']\n",
    "runs_hr = runs_subset_2015_to_2018['Average Heart Rate (bpm)']"
   ]
  },
  {
   "cell_type": "code",
   "execution_count": 31,
   "id": "a8dfee74",
   "metadata": {},
   "outputs": [
    {
     "data": {
      "image/png": "[encoded data removed]",
      "text/plain": [
       "<Figure size 864x576 with 2 Axes>"
      ]
     },
     "metadata": {},
     "output_type": "display_data"
    }
   ],
   "source": [
    "fig, (ax1, ax2) = plt.subplots(2, sharex=True, figsize=(12, 8))\n",
    "\n",
    "#customize first plot\n",
    "runs_distance.plot(ax=ax1)\n",
    "ax1.set(ylabel='Distance_km', title='Historical data with averages')\n",
    "ax1.axhline(runs_distance.mean(), color='blue', linewidth=1, linestyle='-.')\n",
    "\n",
    "#customize second plot\n",
    "runs_hr.plot(ax=ax2, color='gray')\n",
    "ax2.set(xlabel='Date', ylabel='Average Heart Rate (bpm)')\n",
    "ax2.axhline(runs_hr.mean(), color='blue', linewidth=1, linestyle='-.')\n",
    "\n",
    "plt.show()"
   ]
  },
  {
   "cell_type": "markdown",
   "id": "fcfb74d1",
   "metadata": {},
   "source": [
    "### 7.) Did I reach my Goals? <br>\n",
    "#### To motivate myself to run regularly, I set a target goal of running 1000 km per year. Let's visualize my annual running distance (km) from 2013 through 2018 to see if I reached my goal each year. Only stars in the green region indicate success."
   ]
  },
  {
   "cell_type": "code",
   "execution_count": 32,
   "id": "95247e25",
   "metadata": {},
   "outputs": [],
   "source": [
    "#Data preparation\n",
    "df_run_dist_annual = runs_subset_2013_to_2018['Distance_km'].resample('A').sum()"
   ]
  },
  {
   "cell_type": "code",
   "execution_count": 33,
   "id": "29478df4",
   "metadata": {},
   "outputs": [
    {
     "data": {
      "image/png": "[encoded data removed]",
      "text/plain": [
       "<Figure size 576x360 with 1 Axes>"
      ]
     },
     "metadata": {},
     "output_type": "display_data"
    }
   ],
   "source": [
    "fig = plt.figure(figsize=(8,5))\n",
    "\n",
    "ax = df_run_dist_annual.plot(marker='*', markersize=14, linewidth=0, color='blue')\n",
    "ax.set(ylim=[0, 1210], xlim=['2012','2019'], ylabel='Distance_km', xlabel='Years', title='Annual totals for distance')\n",
    "\n",
    "ax.axhspan(1000, 1210, color='green', alpha=0.4)\n",
    "ax.axhspan(800, 1000, color='blue', alpha=0.3)\n",
    "ax.axhspan(0, 800, color = 'red', alpha=0.2)\n",
    "\n",
    "plt.show()"
   ]
  },
  {
   "cell_type": "markdown",
   "id": "0728a183",
   "metadata": {},
   "source": [
    "### 8.) Am I progressing? <br>\n",
    "#### To answer this question, I'll decompose my weekly distance run and visually compare it to the raw data. A red trend line will represent the weekly distance run."
   ]
  },
  {
   "cell_type": "code",
   "execution_count": 34,
   "id": "668a67c0",
   "metadata": {},
   "outputs": [],
   "source": [
    "import statsmodels.api as sm"
   ]
  },
  {
   "cell_type": "code",
   "execution_count": 35,
   "id": "292c74fe",
   "metadata": {},
   "outputs": [
    {
     "data": {
      "image/png": "[encoded data removed]",
      "text/plain": [
       "<Figure size 864x360 with 1 Axes>"
      ]
     },
     "metadata": {},
     "output_type": "display_data"
    }
   ],
   "source": [
    "#Data preparation\n",
    "df_run_dist_weekly = runs_subset_2013_to_2018['Distance_km'].resample('W').bfill()\n",
    "decomposed = sm.tsa.seasonal_decompose(df_run_dist_weekly, extrapolate_trend=1)\n",
    "\n",
    "fig = plt.figure(figsize=(12, 5))\n",
    "\n",
    "ax = decomposed.trend.plot(label='Trend', linewidth=2)\n",
    "ax = decomposed.observed.plot(label='Observed', linewidth=0.5)\n",
    "\n",
    "ax.legend()\n",
    "ax.set_title('Running distance trend')\n",
    "\n",
    "plt.show()"
   ]
  },
  {
   "cell_type": "markdown",
   "id": "a16bc547",
   "metadata": {},
   "source": [
    "### 9.) Training Intensity<br>\n",
    "#### Heart rate is a popular metric used to measure training intensity. Depending on age and fitness level, heart rates are grouped into different zones that people can target depending on training goals. A target heart rate during moderate-intensity activities is about 50-70% of maximum heart rate, while during vigorous physical activity it’s about 70-85% of maximum.<br>\n",
    "#### I'll create a distribution plot of my heart rate data by training intensity. It will be a visual presentation for the number of activities from predefined training zones."
   ]
  },
  {
   "cell_type": "code",
   "execution_count": 50,
   "id": "bfce6cbf",
   "metadata": {},
   "outputs": [
    {
     "data": {
      "image/png": "[encoded data removed]",
      "text/plain": [
       "<Figure size 576x360 with 1 Axes>"
      ]
     },
     "metadata": {},
     "output_type": "display_data"
    }
   ],
   "source": [
    "#Data preparation\n",
    "hr_zones = [100, 125, 133, 142, 151, 173]\n",
    "zone_names = ['Easy', 'Moderate', 'Hard', 'Very hard', 'Maximum', '']\n",
    "zone_colors = ['green', 'yellow', 'orange', 'tomato', 'red']\n",
    "df_run_hr_all = runs_subset_2015_to_2018.loc[:,['Average Heart Rate (bpm)']]\n",
    "\n",
    "# Create plot\n",
    "fig, ax = plt.subplots(figsize=(8, 5))\n",
    "\n",
    "# Plot and customize\n",
    "n, bins, patches = ax.hist(df_run_hr_all, bins=hr_zones, alpha=0.5)\n",
    "for i in range(0, len(patches)):\n",
    "    patches[i].set_facecolor(zone_colors[i])\n",
    "\n",
    "ax.set(title='Distribution of HR', ylabel='Number of runs')\n",
    "ax.xaxis.set(ticks=hr_zones)\n",
    "\n",
    "ax.set_xticklabels(labels=zone_names, rotation=-30, ha='left')\n",
    "\n",
    "\n",
    "plt.show()"
   ]
  },
  {
   "cell_type": "markdown",
   "id": "81d3f383",
   "metadata": {},
   "source": [
    "### 10.) Detailed summary report\n",
    "#### With all this data cleaning, analysis, and visualization, I'll create detailed summary tables of my training.\n",
    "#### To do this, I'll create two tables. The first table will be a summary of the distance (km) and climb (m) variables for each training activity. The second table will list the summary statistics for the average speed (km/hr), climb (m), and distance (km) variables for each training activity."
   ]
  },
  {
   "cell_type": "code",
   "execution_count": 65,
   "id": "fdb4fa4a",
   "metadata": {},
   "outputs": [
    {
     "name": "stdout",
     "output_type": "stream",
     "text": [
      "Totals for different training types:\n"
     ]
    },
    {
     "data": {
      "text/html": [
       "<div>\n",
       "<style scoped>\n",
       "    .dataframe tbody tr th:only-of-type {\n",
       "        vertical-align: middle;\n",
       "    }\n",
       "\n",
       "    .dataframe tbody tr th {\n",
       "        vertical-align: top;\n",
       "    }\n",
       "\n",
       "    .dataframe thead th {\n",
       "        text-align: right;\n",
       "    }\n",
       "</style>\n",
       "<table border=\"1\" class=\"dataframe\">\n",
       "  <thead>\n",
       "    <tr style=\"text-align: right;\">\n",
       "      <th></th>\n",
       "      <th>Distance_km</th>\n",
       "      <th>Climb (m)</th>\n",
       "    </tr>\n",
       "    <tr>\n",
       "      <th>Workout_type</th>\n",
       "      <th></th>\n",
       "      <th></th>\n",
       "    </tr>\n",
       "  </thead>\n",
       "  <tbody>\n",
       "    <tr>\n",
       "      <th>Cycling</th>\n",
       "      <td>680.58</td>\n",
       "      <td>6976</td>\n",
       "    </tr>\n",
       "    <tr>\n",
       "      <th>Running</th>\n",
       "      <td>5224.50</td>\n",
       "      <td>57278</td>\n",
       "    </tr>\n",
       "    <tr>\n",
       "      <th>Walking</th>\n",
       "      <td>33.45</td>\n",
       "      <td>349</td>\n",
       "    </tr>\n",
       "  </tbody>\n",
       "</table>\n",
       "</div>"
      ],
      "text/plain": [
       "              Distance_km  Climb (m)\n",
       "Workout_type                        \n",
       "Cycling            680.58       6976\n",
       "Running           5224.50      57278\n",
       "Walking             33.45        349"
      ]
     },
     "metadata": {},
     "output_type": "display_data"
    }
   ],
   "source": [
    "# Concatenating three DataFrames\n",
    "df_run_walk_cycle = pd.concat([df_Run, df_Cycle, df_Walk]).sort_index(ascending=False)\n",
    "\n",
    "dist_climb_cols, speed_col = ['Distance_km', 'Climb (m)'], ['Average Speed (km/h)']\n",
    "\n",
    "# Calculating total distance and climb in each type of activities\n",
    "df_totals = df_run_walk_cycle.groupby('Workout_type')[dist_climb_cols].sum()\n",
    "\n",
    "print('Totals for different training types:')\n",
    "display(df_totals)"
   ]
  },
  {
   "cell_type": "code",
   "execution_count": 64,
   "id": "d963038f",
   "metadata": {},
   "outputs": [
    {
     "name": "stdout",
     "output_type": "stream",
     "text": [
      "Summary statistics for different training types:\n"
     ]
    },
    {
     "data": {
      "text/html": [
       "<div>\n",
       "<style scoped>\n",
       "    .dataframe tbody tr th:only-of-type {\n",
       "        vertical-align: middle;\n",
       "    }\n",
       "\n",
       "    .dataframe tbody tr th {\n",
       "        vertical-align: top;\n",
       "    }\n",
       "\n",
       "    .dataframe thead th {\n",
       "        text-align: right;\n",
       "    }\n",
       "</style>\n",
       "<table border=\"1\" class=\"dataframe\">\n",
       "  <thead>\n",
       "    <tr style=\"text-align: right;\">\n",
       "      <th></th>\n",
       "      <th></th>\n",
       "      <th>Average Speed (km/h)</th>\n",
       "      <th>Climb (m)</th>\n",
       "      <th>Distance_km</th>\n",
       "    </tr>\n",
       "    <tr>\n",
       "      <th>Workout_type</th>\n",
       "      <th></th>\n",
       "      <th></th>\n",
       "      <th></th>\n",
       "      <th></th>\n",
       "    </tr>\n",
       "  </thead>\n",
       "  <tbody>\n",
       "    <tr>\n",
       "      <th rowspan=\"9\" valign=\"top\">Cycling</th>\n",
       "      <th>25%</th>\n",
       "      <td>16.980000</td>\n",
       "      <td>139.000000</td>\n",
       "      <td>15.530000</td>\n",
       "    </tr>\n",
       "    <tr>\n",
       "      <th>50%</th>\n",
       "      <td>19.500000</td>\n",
       "      <td>199.000000</td>\n",
       "      <td>20.300000</td>\n",
       "    </tr>\n",
       "    <tr>\n",
       "      <th>75%</th>\n",
       "      <td>21.490000</td>\n",
       "      <td>318.000000</td>\n",
       "      <td>29.400000</td>\n",
       "    </tr>\n",
       "    <tr>\n",
       "      <th>count</th>\n",
       "      <td>29.000000</td>\n",
       "      <td>29.000000</td>\n",
       "      <td>29.000000</td>\n",
       "    </tr>\n",
       "    <tr>\n",
       "      <th>max</th>\n",
       "      <td>24.330000</td>\n",
       "      <td>553.000000</td>\n",
       "      <td>49.180000</td>\n",
       "    </tr>\n",
       "    <tr>\n",
       "      <th>mean</th>\n",
       "      <td>19.125172</td>\n",
       "      <td>240.551724</td>\n",
       "      <td>23.468276</td>\n",
       "    </tr>\n",
       "    <tr>\n",
       "      <th>min</th>\n",
       "      <td>11.380000</td>\n",
       "      <td>58.000000</td>\n",
       "      <td>11.410000</td>\n",
       "    </tr>\n",
       "    <tr>\n",
       "      <th>std</th>\n",
       "      <td>3.257100</td>\n",
       "      <td>128.960289</td>\n",
       "      <td>9.451040</td>\n",
       "    </tr>\n",
       "    <tr>\n",
       "      <th>total</th>\n",
       "      <td>NaN</td>\n",
       "      <td>6976.000000</td>\n",
       "      <td>680.580000</td>\n",
       "    </tr>\n",
       "    <tr>\n",
       "      <th rowspan=\"9\" valign=\"top\">Running</th>\n",
       "      <th>25%</th>\n",
       "      <td>10.495000</td>\n",
       "      <td>54.000000</td>\n",
       "      <td>7.415000</td>\n",
       "    </tr>\n",
       "    <tr>\n",
       "      <th>50%</th>\n",
       "      <td>10.980000</td>\n",
       "      <td>91.000000</td>\n",
       "      <td>10.810000</td>\n",
       "    </tr>\n",
       "    <tr>\n",
       "      <th>75%</th>\n",
       "      <td>11.520000</td>\n",
       "      <td>171.000000</td>\n",
       "      <td>13.190000</td>\n",
       "    </tr>\n",
       "    <tr>\n",
       "      <th>count</th>\n",
       "      <td>459.000000</td>\n",
       "      <td>459.000000</td>\n",
       "      <td>459.000000</td>\n",
       "    </tr>\n",
       "    <tr>\n",
       "      <th>max</th>\n",
       "      <td>20.720000</td>\n",
       "      <td>982.000000</td>\n",
       "      <td>38.320000</td>\n",
       "    </tr>\n",
       "    <tr>\n",
       "      <th>mean</th>\n",
       "      <td>11.056296</td>\n",
       "      <td>124.788671</td>\n",
       "      <td>11.382353</td>\n",
       "    </tr>\n",
       "    <tr>\n",
       "      <th>min</th>\n",
       "      <td>5.770000</td>\n",
       "      <td>0.000000</td>\n",
       "      <td>0.760000</td>\n",
       "    </tr>\n",
       "    <tr>\n",
       "      <th>std</th>\n",
       "      <td>0.953273</td>\n",
       "      <td>103.382177</td>\n",
       "      <td>4.937853</td>\n",
       "    </tr>\n",
       "    <tr>\n",
       "      <th>total</th>\n",
       "      <td>NaN</td>\n",
       "      <td>57278.000000</td>\n",
       "      <td>5224.500000</td>\n",
       "    </tr>\n",
       "    <tr>\n",
       "      <th rowspan=\"9\" valign=\"top\">Walking</th>\n",
       "      <th>25%</th>\n",
       "      <td>5.555000</td>\n",
       "      <td>7.000000</td>\n",
       "      <td>1.385000</td>\n",
       "    </tr>\n",
       "    <tr>\n",
       "      <th>50%</th>\n",
       "      <td>5.970000</td>\n",
       "      <td>10.000000</td>\n",
       "      <td>1.485000</td>\n",
       "    </tr>\n",
       "    <tr>\n",
       "      <th>75%</th>\n",
       "      <td>6.512500</td>\n",
       "      <td>15.500000</td>\n",
       "      <td>1.787500</td>\n",
       "    </tr>\n",
       "    <tr>\n",
       "      <th>count</th>\n",
       "      <td>18.000000</td>\n",
       "      <td>18.000000</td>\n",
       "      <td>18.000000</td>\n",
       "    </tr>\n",
       "    <tr>\n",
       "      <th>max</th>\n",
       "      <td>6.910000</td>\n",
       "      <td>112.000000</td>\n",
       "      <td>4.290000</td>\n",
       "    </tr>\n",
       "    <tr>\n",
       "      <th>mean</th>\n",
       "      <td>5.549444</td>\n",
       "      <td>19.388889</td>\n",
       "      <td>1.858333</td>\n",
       "    </tr>\n",
       "    <tr>\n",
       "      <th>min</th>\n",
       "      <td>1.040000</td>\n",
       "      <td>5.000000</td>\n",
       "      <td>1.220000</td>\n",
       "    </tr>\n",
       "    <tr>\n",
       "      <th>std</th>\n",
       "      <td>1.459309</td>\n",
       "      <td>27.110100</td>\n",
       "      <td>0.880055</td>\n",
       "    </tr>\n",
       "    <tr>\n",
       "      <th>total</th>\n",
       "      <td>NaN</td>\n",
       "      <td>349.000000</td>\n",
       "      <td>33.450000</td>\n",
       "    </tr>\n",
       "  </tbody>\n",
       "</table>\n",
       "</div>"
      ],
      "text/plain": [
       "                    Average Speed (km/h)     Climb (m)  Distance_km\n",
       "Workout_type                                                       \n",
       "Cycling      25%               16.980000    139.000000    15.530000\n",
       "             50%               19.500000    199.000000    20.300000\n",
       "             75%               21.490000    318.000000    29.400000\n",
       "             count             29.000000     29.000000    29.000000\n",
       "             max               24.330000    553.000000    49.180000\n",
       "             mean              19.125172    240.551724    23.468276\n",
       "             min               11.380000     58.000000    11.410000\n",
       "             std                3.257100    128.960289     9.451040\n",
       "             total                   NaN   6976.000000   680.580000\n",
       "Running      25%               10.495000     54.000000     7.415000\n",
       "             50%               10.980000     91.000000    10.810000\n",
       "             75%               11.520000    171.000000    13.190000\n",
       "             count            459.000000    459.000000   459.000000\n",
       "             max               20.720000    982.000000    38.320000\n",
       "             mean              11.056296    124.788671    11.382353\n",
       "             min                5.770000      0.000000     0.760000\n",
       "             std                0.953273    103.382177     4.937853\n",
       "             total                   NaN  57278.000000  5224.500000\n",
       "Walking      25%                5.555000      7.000000     1.385000\n",
       "             50%                5.970000     10.000000     1.485000\n",
       "             75%                6.512500     15.500000     1.787500\n",
       "             count             18.000000     18.000000    18.000000\n",
       "             max                6.910000    112.000000     4.290000\n",
       "             mean               5.549444     19.388889     1.858333\n",
       "             min                1.040000      5.000000     1.220000\n",
       "             std                1.459309     27.110100     0.880055\n",
       "             total                   NaN    349.000000    33.450000"
      ]
     },
     "execution_count": 64,
     "metadata": {},
     "output_type": "execute_result"
    }
   ],
   "source": [
    "# Calculating summary statistics for each type of activities \n",
    "df_summary = df_run_walk_cycle.groupby('Workout_type')[dist_climb_cols + speed_col].describe()\n",
    "\n",
    "# Combine totals with summary\n",
    "for i in dist_climb_cols:\n",
    "    df_summary[i, 'total'] = df_totals[i]\n",
    "\n",
    "print('Summary statistics for different training types:')\n",
    "df_summary.stack()"
   ]
  },
  {
   "cell_type": "markdown",
   "id": "20a959bd",
   "metadata": {},
   "source": [
    "### 11.) Fun facts\n",
    "#### To wrap up, let’s pick some fun facts out of the summary tables and solve the last exercise.\n",
    "#### These data (my running history) represent 6 years, 2 months and 21 days. And I remember how many running shoes I went through–7."
   ]
  },
  {
   "cell_type": "code",
   "execution_count": 92,
   "id": "ed3b07d1",
   "metadata": {},
   "outputs": [
    {
     "data": {
      "text/html": [
       "<div>\n",
       "<style scoped>\n",
       "    .dataframe tbody tr th:only-of-type {\n",
       "        vertical-align: middle;\n",
       "    }\n",
       "\n",
       "    .dataframe tbody tr th {\n",
       "        vertical-align: top;\n",
       "    }\n",
       "\n",
       "    .dataframe thead th {\n",
       "        text-align: right;\n",
       "    }\n",
       "</style>\n",
       "<table border=\"1\" class=\"dataframe\">\n",
       "  <thead>\n",
       "    <tr style=\"text-align: right;\">\n",
       "      <th></th>\n",
       "      <th>Workout_type</th>\n",
       "      <th>Distance_km</th>\n",
       "      <th>Duration</th>\n",
       "      <th>Average Pace</th>\n",
       "      <th>Average Speed (km/h)</th>\n",
       "      <th>Climb (m)</th>\n",
       "      <th>Average Heart Rate (bpm)</th>\n",
       "    </tr>\n",
       "    <tr>\n",
       "      <th>Date</th>\n",
       "      <th></th>\n",
       "      <th></th>\n",
       "      <th></th>\n",
       "      <th></th>\n",
       "      <th></th>\n",
       "      <th></th>\n",
       "      <th></th>\n",
       "    </tr>\n",
       "  </thead>\n",
       "  <tbody>\n",
       "    <tr>\n",
       "      <th>2018-11-11 14:05:12</th>\n",
       "      <td>Running</td>\n",
       "      <td>10.44</td>\n",
       "      <td>58:40</td>\n",
       "      <td>5:37</td>\n",
       "      <td>10.68</td>\n",
       "      <td>130</td>\n",
       "      <td>159.0</td>\n",
       "    </tr>\n",
       "    <tr>\n",
       "      <th>2018-11-09 15:02:35</th>\n",
       "      <td>Running</td>\n",
       "      <td>12.84</td>\n",
       "      <td>1:14:12</td>\n",
       "      <td>5:47</td>\n",
       "      <td>10.39</td>\n",
       "      <td>168</td>\n",
       "      <td>159.0</td>\n",
       "    </tr>\n",
       "    <tr>\n",
       "      <th>2018-11-04 16:05:00</th>\n",
       "      <td>Running</td>\n",
       "      <td>13.01</td>\n",
       "      <td>1:15:16</td>\n",
       "      <td>5:47</td>\n",
       "      <td>10.37</td>\n",
       "      <td>171</td>\n",
       "      <td>155.0</td>\n",
       "    </tr>\n",
       "    <tr>\n",
       "      <th>2018-11-01 14:03:58</th>\n",
       "      <td>Running</td>\n",
       "      <td>12.98</td>\n",
       "      <td>1:14:25</td>\n",
       "      <td>5:44</td>\n",
       "      <td>10.47</td>\n",
       "      <td>169</td>\n",
       "      <td>158.0</td>\n",
       "    </tr>\n",
       "    <tr>\n",
       "      <th>2018-10-27 17:01:36</th>\n",
       "      <td>Running</td>\n",
       "      <td>13.02</td>\n",
       "      <td>1:12:50</td>\n",
       "      <td>5:36</td>\n",
       "      <td>10.73</td>\n",
       "      <td>170</td>\n",
       "      <td>154.0</td>\n",
       "    </tr>\n",
       "  </tbody>\n",
       "</table>\n",
       "</div>"
      ],
      "text/plain": [
       "                    Workout_type  Distance_km Duration Average Pace  \\\n",
       "Date                                                                  \n",
       "2018-11-11 14:05:12      Running        10.44    58:40         5:37   \n",
       "2018-11-09 15:02:35      Running        12.84  1:14:12         5:47   \n",
       "2018-11-04 16:05:00      Running        13.01  1:15:16         5:47   \n",
       "2018-11-01 14:03:58      Running        12.98  1:14:25         5:44   \n",
       "2018-10-27 17:01:36      Running        13.02  1:12:50         5:36   \n",
       "\n",
       "                     Average Speed (km/h)  Climb (m)  Average Heart Rate (bpm)  \n",
       "Date                                                                            \n",
       "2018-11-11 14:05:12                 10.68        130                     159.0  \n",
       "2018-11-09 15:02:35                 10.39        168                     159.0  \n",
       "2018-11-04 16:05:00                 10.37        171                     155.0  \n",
       "2018-11-01 14:03:58                 10.47        169                     158.0  \n",
       "2018-10-27 17:01:36                 10.73        170                     154.0  "
      ]
     },
     "execution_count": 92,
     "metadata": {},
     "output_type": "execute_result"
    }
   ],
   "source": [
    "df_Run.head()"
   ]
  },
  {
   "cell_type": "code",
   "execution_count": 88,
   "id": "c3950bdd",
   "metadata": {},
   "outputs": [
    {
     "name": "stdout",
     "output_type": "stream",
     "text": [
      "11.38 km\n"
     ]
    }
   ],
   "source": [
    "Average_Distance_Run = df_Run['Distance_km'].mean()\n",
    "print(str(round(Average_Distance_Run, 2)) + ' km')"
   ]
  },
  {
   "cell_type": "code",
   "execution_count": 89,
   "id": "37943d8a",
   "metadata": {},
   "outputs": [
    {
     "name": "stdout",
     "output_type": "stream",
     "text": [
      "38.32 km\n"
     ]
    }
   ],
   "source": [
    "Longest_Distance_Run = df_Run['Distance_km'].max()\n",
    "print(str(Longest_Distance_Run) + ' km')"
   ]
  },
  {
   "cell_type": "code",
   "execution_count": 91,
   "id": "4d09c618",
   "metadata": {},
   "outputs": [
    {
     "name": "stdout",
     "output_type": "stream",
     "text": [
      "5224.5 km\n"
     ]
    }
   ],
   "source": [
    "Total_Distance_Run = df_Run['Distance_km'].sum()\n",
    "print(str(Total_Distance_Run) + ' km')"
   ]
  },
  {
   "cell_type": "code",
   "execution_count": 97,
   "id": "3f57ff22",
   "metadata": {},
   "outputs": [
    {
     "name": "stdout",
     "output_type": "stream",
     "text": [
      "Total Runs:  459\n"
     ]
    }
   ],
   "source": [
    "Total_Runs = df_Run.shape[0]\n",
    "print('Total Runs: ', Total_Runs)"
   ]
  },
  {
   "cell_type": "markdown",
   "id": "4686bceb",
   "metadata": {},
   "source": [
    "Let's say I used 5 pair of shoes to achieve my Total_Distance_Run of 5224.5 km in all these years.<br>\n",
    "Suppose If tomorrow I make up my mind to run all around the earth's circumference, how many pair of shoes would i require?"
   ]
  },
  {
   "cell_type": "code",
   "execution_count": 101,
   "id": "ae435318",
   "metadata": {},
   "outputs": [
    {
     "name": "stdout",
     "output_type": "stream",
     "text": [
      "Satvik would need 38 pairs of shoes to run around the Earth!\n"
     ]
    }
   ],
   "source": [
    "Average_km_per_shoes = Total_Distance_Run/5\n",
    "#Assuming earth's circumference as 40,075 Km\n",
    "Shoes_for_earth_tour = int(40075/Average_km_per_shoes)\n",
    "\n",
    "print('Satvik would need {} pairs of shoes to run around the Earth!'.format(Shoes_for_earth_tour))"
   ]
  },
  {
   "cell_type": "markdown",
   "id": "f160dc08",
   "metadata": {},
   "source": [
    "## THANK YOU!"
   ]
  }
 ],
 "metadata": {
  "kernelspec": {
   "display_name": "Python 3 (ipykernel)",
   "language": "python",
   "name": "python3"
  },
  "language_info": {
   "codemirror_mode": {
    "name": "ipython",
    "version": 3
   },
   "file_extension": ".py",
   "mimetype": "text/x-python",
   "name": "python",
   "nbconvert_exporter": "python",
   "pygments_lexer": "ipython3",
   "version": "3.9.12"
  }
 },
 "nbformat": 4,
 "nbformat_minor": 5
}
